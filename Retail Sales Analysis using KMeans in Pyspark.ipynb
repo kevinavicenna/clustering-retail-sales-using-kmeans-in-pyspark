{
 "cells": [
  {
   "attachments": {},
   "cell_type": "markdown",
   "id": "11e66f08",
   "metadata": {},
   "source": [
    "# Clustering Retail Sales Analysis using KMeans in PySpark\n",
    "\n",
    "Kita akan menggunakan standar CRISP-DM agar menghasilkan Data Driven Decission Making yang berkualitas"
   ]
  },
  {
   "attachments": {},
   "cell_type": "markdown",
   "id": "61e20ea3",
   "metadata": {},
   "source": [
    "## Data Understanding"
   ]
  },
  {
   "cell_type": "code",
   "execution_count": 4,
   "id": "8988e970",
   "metadata": {},
   "outputs": [],
   "source": [
    "# import os\n",
    "# os.environ['PYDEVD_DISABLE_FILE_VALIDATION'] = '1'"
   ]
  },
  {
   "cell_type": "code",
   "execution_count": 5,
   "id": "78fa439b",
   "metadata": {},
   "outputs": [],
   "source": [
    "from pyspark.sql import SparkSession\n",
    "from pyspark.sql.functions import *\n",
    "from pyspark.sql.types import *\n",
    "\n",
    "#processing\n",
    "from pyspark.ml.feature import VectorAssembler\n",
    "from pyspark.ml.feature import StandardScaler\n",
    "\n",
    "#modeling\n",
    "import numpy as np\n",
    "from pyspark.ml.clustering import KMeans\n",
    "from pyspark.ml.evaluation import ClusteringEvaluator\n",
    "\n",
    "#membuat entry point \n",
    "spark = SparkSession.builder.appName(\"Retail Sales\").getOrCreate()"
   ]
  },
  {
   "cell_type": "code",
   "execution_count": 6,
   "id": "8546e859",
   "metadata": {},
   "outputs": [],
   "source": [
    "# dir(spark)"
   ]
  },
  {
   "cell_type": "code",
   "execution_count": 7,
   "id": "27ec81ab",
   "metadata": {},
   "outputs": [],
   "source": [
    "#read csv\n",
    "df = spark.read.csv('online_retail.csv',header=True,escape=\"\\\"\")"
   ]
  },
  {
   "cell_type": "code",
   "execution_count": 8,
   "id": "8be73a9a",
   "metadata": {},
   "outputs": [
    {
     "name": "stdout",
     "output_type": "stream",
     "text": [
      "+---------+---------+-----------------------------------+--------+------------+---------+----------+--------------+\n",
      "|InvoiceNo|StockCode|Description                        |Quantity|InvoiceDate |UnitPrice|CustomerID|Country       |\n",
      "+---------+---------+-----------------------------------+--------+------------+---------+----------+--------------+\n",
      "|536365   |85123A   |WHITE HANGING HEART T-LIGHT HOLDER |6       |12/1/10 8:26|2.55     |17850     |United Kingdom|\n",
      "|536365   |71053    |WHITE METAL LANTERN                |6       |12/1/10 8:26|3.39     |17850     |United Kingdom|\n",
      "|536365   |84406B   |CREAM CUPID HEARTS COAT HANGER     |8       |12/1/10 8:26|2.75     |17850     |United Kingdom|\n",
      "|536365   |84029G   |KNITTED UNION FLAG HOT WATER BOTTLE|6       |12/1/10 8:26|3.39     |17850     |United Kingdom|\n",
      "|536365   |84029E   |RED WOOLLY HOTTIE WHITE HEART.     |6       |12/1/10 8:26|3.39     |17850     |United Kingdom|\n",
      "+---------+---------+-----------------------------------+--------+------------+---------+----------+--------------+\n",
      "only showing top 5 rows\n",
      "\n"
     ]
    }
   ],
   "source": [
    "df.show(5,0)"
   ]
  },
  {
   "cell_type": "code",
   "execution_count": 9,
   "id": "4fda5afd",
   "metadata": {},
   "outputs": [
    {
     "name": "stdout",
     "output_type": "stream",
     "text": [
      "root\n",
      " |-- InvoiceNo: string (nullable = true)\n",
      " |-- StockCode: string (nullable = true)\n",
      " |-- Description: string (nullable = true)\n",
      " |-- Quantity: string (nullable = true)\n",
      " |-- InvoiceDate: string (nullable = true)\n",
      " |-- UnitPrice: string (nullable = true)\n",
      " |-- CustomerID: string (nullable = true)\n",
      " |-- Country: string (nullable = true)\n",
      "\n"
     ]
    }
   ],
   "source": [
    "df.printSchema()"
   ]
  },
  {
   "attachments": {},
   "cell_type": "markdown",
   "id": "044390a9",
   "metadata": {},
   "source": [
    "### Exploratory Data analysis aka EDA\n",
    "melakukan proses untuk menganalisis dan memahami data secara visual dan statistik guna mengidentifikasi pola, hubungan, dan karakteristik penting dalam data."
   ]
  },
  {
   "cell_type": "code",
   "execution_count": 10,
   "id": "44c12f81",
   "metadata": {},
   "outputs": [
    {
     "name": "stdout",
     "output_type": "stream",
     "text": [
      "+-------+------------------+-----------------+\n",
      "|summary|          Quantity|        UnitPrice|\n",
      "+-------+------------------+-----------------+\n",
      "|  count|            541909|           541909|\n",
      "|   mean|  9.55224954743324| 4.61111362608923|\n",
      "| stddev|218.08115785023386|96.75985306117973|\n",
      "|    min|                -1|        -11062.06|\n",
      "|    max|               992|            99.96|\n",
      "+-------+------------------+-----------------+\n",
      "\n"
     ]
    }
   ],
   "source": [
    "# dir(df)\n",
    "df.describe(['Quantity','UnitPrice']).show()"
   ]
  },
  {
   "attachments": {},
   "cell_type": "markdown",
   "id": "dbf0d6b2",
   "metadata": {},
   "source": [
    "##### Berapa Jumlah Customer Berdasarkan CustomerID?"
   ]
  },
  {
   "cell_type": "code",
   "execution_count": 11,
   "id": "1adbb7df",
   "metadata": {},
   "outputs": [
    {
     "data": {
      "text/plain": [
       "4373"
      ]
     },
     "execution_count": 11,
     "metadata": {},
     "output_type": "execute_result"
    }
   ],
   "source": [
    "df.select('CustomerID').distinct().count()"
   ]
  },
  {
   "attachments": {},
   "cell_type": "markdown",
   "id": "5f5dcacd",
   "metadata": {},
   "source": [
    "\n",
    "##### Berapa jumlah negara yang pernah melakukan transaksi?"
   ]
  },
  {
   "cell_type": "code",
   "execution_count": 42,
   "id": "1eef27dc",
   "metadata": {},
   "outputs": [
    {
     "data": {
      "text/plain": [
       "38"
      ]
     },
     "execution_count": 42,
     "metadata": {},
     "output_type": "execute_result"
    }
   ],
   "source": [
    "df.select('Country').distinct().count()"
   ]
  },
  {
   "attachments": {},
   "cell_type": "markdown",
   "id": "aafea59b",
   "metadata": {},
   "source": [
    "##### Berapa Jumlah negara yang paling sering melakukan Transaki?"
   ]
  },
  {
   "cell_type": "code",
   "execution_count": 14,
   "id": "4b00edd0",
   "metadata": {},
   "outputs": [
    {
     "name": "stdout",
     "output_type": "stream",
     "text": [
      "+---------------+------+\n",
      "|        Country|Jumlah|\n",
      "+---------------+------+\n",
      "| United Kingdom|  3950|\n",
      "|        Germany|    95|\n",
      "|         France|    87|\n",
      "|          Spain|    31|\n",
      "|        Belgium|    25|\n",
      "|    Switzerland|    21|\n",
      "|       Portugal|    19|\n",
      "|          Italy|    15|\n",
      "|        Finland|    12|\n",
      "|        Austria|    11|\n",
      "|         Norway|    10|\n",
      "|        Denmark|     9|\n",
      "|Channel Islands|     9|\n",
      "|      Australia|     9|\n",
      "|    Netherlands|     9|\n",
      "|         Sweden|     8|\n",
      "|         Cyprus|     8|\n",
      "|          Japan|     8|\n",
      "|         Poland|     6|\n",
      "|         Greece|     4|\n",
      "+---------------+------+\n",
      "only showing top 20 rows\n",
      "\n"
     ]
    }
   ],
   "source": [
    "df.groupBy('Country') \\\n",
    "    .agg(countDistinct('CustomerID') \\\n",
    "    .alias('Jumlah')) \\\n",
    "    .orderBy(desc('Jumlah')) \\\n",
    "    .show()\n",
    "\n",
    "# result = df.groupBy('Country') \\\n",
    "#     .agg(countDistinct('CustomerID') \\\n",
    "#     .alias('Jumlah'))\n",
    "# result.show()"
   ]
  },
  {
   "attachments": {},
   "cell_type": "markdown",
   "id": "b95b8104",
   "metadata": {},
   "source": [
    "### Data Processing"
   ]
  },
  {
   "cell_type": "code",
   "execution_count": 15,
   "id": "9b8e317a",
   "metadata": {},
   "outputs": [
    {
     "name": "stdout",
     "output_type": "stream",
     "text": [
      "+-------------------+\n",
      "|          max(date)|\n",
      "+-------------------+\n",
      "|2012-12-10 16:21:00|\n",
      "+-------------------+\n",
      "\n"
     ]
    }
   ],
   "source": [
    "spark.conf.set(\"spark.sql.legacy.timeParserPolicy\", \"LEGACY\")\n",
    "df = df.withColumn('date',to_timestamp(\"InvoiceDate\",'yy/MM/dd HH:mm'))\n",
    "df.select(max('date')).show()"
   ]
  },
  {
   "cell_type": "code",
   "execution_count": 16,
   "id": "33e8554a",
   "metadata": {},
   "outputs": [
    {
     "name": "stdout",
     "output_type": "stream",
     "text": [
      "+---------+---------+-----------------------------------+--------+------------+---------+----------+--------------+-------------------+\n",
      "|InvoiceNo|StockCode|Description                        |Quantity|InvoiceDate |UnitPrice|CustomerID|Country       |date               |\n",
      "+---------+---------+-----------------------------------+--------+------------+---------+----------+--------------+-------------------+\n",
      "|536365   |85123A   |WHITE HANGING HEART T-LIGHT HOLDER |6       |12/1/10 8:26|2.55     |17850     |United Kingdom|2012-01-10 08:26:00|\n",
      "|536365   |71053    |WHITE METAL LANTERN                |6       |12/1/10 8:26|3.39     |17850     |United Kingdom|2012-01-10 08:26:00|\n",
      "|536365   |84406B   |CREAM CUPID HEARTS COAT HANGER     |8       |12/1/10 8:26|2.75     |17850     |United Kingdom|2012-01-10 08:26:00|\n",
      "|536365   |84029G   |KNITTED UNION FLAG HOT WATER BOTTLE|6       |12/1/10 8:26|3.39     |17850     |United Kingdom|2012-01-10 08:26:00|\n",
      "|536365   |84029E   |RED WOOLLY HOTTIE WHITE HEART.     |6       |12/1/10 8:26|3.39     |17850     |United Kingdom|2012-01-10 08:26:00|\n",
      "+---------+---------+-----------------------------------+--------+------------+---------+----------+--------------+-------------------+\n",
      "only showing top 5 rows\n",
      "\n"
     ]
    }
   ],
   "source": [
    "df.show(5,0)"
   ]
  },
  {
   "attachments": {},
   "cell_type": "markdown",
   "id": "0bfef290",
   "metadata": {},
   "source": [
    "#### Berapa skor Rerency untuk setiap Pelanggan?"
   ]
  },
  {
   "cell_type": "code",
   "execution_count": 17,
   "id": "94842996",
   "metadata": {},
   "outputs": [],
   "source": [
    "df = df.withColumn(\"from_date\",lit(\"12/1/10 08:26\"))\n",
    "df = df.withColumn(\"from_date\",to_timestamp(\"from_date\",\"yy/MM/dd HH:mm\"))\n",
    "\n",
    "# df.show()\n",
    "df_2 = df.withColumn('from_date',to_timestamp(col('from_date'))) \\\n",
    "    .withColumn('recency',col(\"date\") \\\n",
    "    .cast('long') - col('from_date') \\\n",
    "    .cast('long'))"
   ]
  },
  {
   "cell_type": "code",
   "execution_count": 18,
   "id": "3e4fd180",
   "metadata": {},
   "outputs": [
    {
     "name": "stdout",
     "output_type": "stream",
     "text": [
      "+---------+---------+----------------------------------+--------+------------+---------+----------+--------------+-------------------+-------------------+-------+\n",
      "|InvoiceNo|StockCode|Description                       |Quantity|InvoiceDate |UnitPrice|CustomerID|Country       |date               |from_date          |recency|\n",
      "+---------+---------+----------------------------------+--------+------------+---------+----------+--------------+-------------------+-------------------+-------+\n",
      "|536365   |85123A   |WHITE HANGING HEART T-LIGHT HOLDER|6       |12/1/10 8:26|2.55     |17850     |United Kingdom|2012-01-10 08:26:00|2012-01-10 08:26:00|0      |\n",
      "+---------+---------+----------------------------------+--------+------------+---------+----------+--------------+-------------------+-------------------+-------+\n",
      "only showing top 1 row\n",
      "\n"
     ]
    }
   ],
   "source": [
    "df_2.show(1,0)"
   ]
  },
  {
   "cell_type": "code",
   "execution_count": 19,
   "id": "20493a47",
   "metadata": {},
   "outputs": [
    {
     "name": "stdout",
     "output_type": "stream",
     "text": [
      "+-------+---------+---------+--------------------+--------+------------+---------+----------+--------------+-------------------+-------------------+\n",
      "|recency|InvoiceNo|StockCode|         Description|Quantity| InvoiceDate|UnitPrice|CustomerID|       Country|               date|          from_date|\n",
      "+-------+---------+---------+--------------------+--------+------------+---------+----------+--------------+-------------------+-------------------+\n",
      "|    540|   536369|    21756|BATH BUILDING BLO...|       3|12/1/10 8:35|     5.95|     13047|United Kingdom|2012-01-10 08:35:00|2012-01-10 08:26:00|\n",
      "|   2040|   536371|    22086|PAPER CHAIN KIT 5...|      80|12/1/10 9:00|     2.55|     13748|United Kingdom|2012-01-10 09:00:00|2012-01-10 08:26:00|\n",
      "|   3960|   536375|   85123A|WHITE HANGING HEA...|       6|12/1/10 9:32|     2.55|     17850|United Kingdom|2012-01-10 09:32:00|2012-01-10 08:26:00|\n",
      "|   3960|   536375|    71053| WHITE METAL LANTERN|       6|12/1/10 9:32|     3.39|     17850|United Kingdom|2012-01-10 09:32:00|2012-01-10 08:26:00|\n",
      "|   3960|   536375|   84406B|CREAM CUPID HEART...|       8|12/1/10 9:32|     2.75|     17850|United Kingdom|2012-01-10 09:32:00|2012-01-10 08:26:00|\n",
      "|   3960|   536375|    20679|EDWARDIAN PARASOL...|       6|12/1/10 9:32|     4.95|     17850|United Kingdom|2012-01-10 09:32:00|2012-01-10 08:26:00|\n",
      "|   3960|   536375|    37370|RETRO COFFEE MUGS...|       6|12/1/10 9:32|     1.06|     17850|United Kingdom|2012-01-10 09:32:00|2012-01-10 08:26:00|\n",
      "|   3960|   536375|    21871| SAVE THE PLANET MUG|       6|12/1/10 9:32|     1.06|     17850|United Kingdom|2012-01-10 09:32:00|2012-01-10 08:26:00|\n",
      "|   3960|   536375|    21071|VINTAGE BILLBOARD...|       6|12/1/10 9:32|     1.06|     17850|United Kingdom|2012-01-10 09:32:00|2012-01-10 08:26:00|\n",
      "|   3960|   536375|    21068|VINTAGE BILLBOARD...|       6|12/1/10 9:32|     1.06|     17850|United Kingdom|2012-01-10 09:32:00|2012-01-10 08:26:00|\n",
      "|   3960|   536375|    82483|WOOD 2 DRAWER CAB...|       2|12/1/10 9:32|     4.95|     17850|United Kingdom|2012-01-10 09:32:00|2012-01-10 08:26:00|\n",
      "|   3960|   536375|    82486|WOOD S/3 CABINET ...|       4|12/1/10 9:32|     6.95|     17850|United Kingdom|2012-01-10 09:32:00|2012-01-10 08:26:00|\n",
      "|   3960|   536375|    82482|WOODEN PICTURE FR...|       6|12/1/10 9:32|      2.1|     17850|United Kingdom|2012-01-10 09:32:00|2012-01-10 08:26:00|\n",
      "|   3960|   536375|   82494L|WOODEN FRAME ANTI...|       6|12/1/10 9:32|     2.55|     17850|United Kingdom|2012-01-10 09:32:00|2012-01-10 08:26:00|\n",
      "|   3960|   536375|   84029G|KNITTED UNION FLA...|       6|12/1/10 9:32|     3.39|     17850|United Kingdom|2012-01-10 09:32:00|2012-01-10 08:26:00|\n",
      "|   3960|   536375|   84029E|RED WOOLLY HOTTIE...|       6|12/1/10 9:32|     3.39|     17850|United Kingdom|2012-01-10 09:32:00|2012-01-10 08:26:00|\n",
      "|   3960|   536375|    22752|SET 7 BABUSHKA NE...|       2|12/1/10 9:32|     7.65|     17850|United Kingdom|2012-01-10 09:32:00|2012-01-10 08:26:00|\n",
      "|   3960|   536375|    21730|GLASS STAR FROSTE...|       6|12/1/10 9:32|     4.25|     17850|United Kingdom|2012-01-10 09:32:00|2012-01-10 08:26:00|\n",
      "|   3960|   536376|    22114|HOT WATER BOTTLE ...|      48|12/1/10 9:32|     3.45|     15291|United Kingdom|2012-01-10 09:32:00|2012-01-10 08:26:00|\n",
      "|   3960|   536376|    21733|RED HANGING HEART...|      64|12/1/10 9:32|     2.55|     15291|United Kingdom|2012-01-10 09:32:00|2012-01-10 08:26:00|\n",
      "+-------+---------+---------+--------------------+--------+------------+---------+----------+--------------+-------------------+-------------------+\n",
      "only showing top 20 rows\n",
      "\n"
     ]
    }
   ],
   "source": [
    "df_2 = df_2.join(df_2.groupBy('CustomerID').agg(max('recency').alias('recency')),on='recency',how='leftsemi')\n",
    "df_2.show()"
   ]
  },
  {
   "attachments": {},
   "cell_type": "markdown",
   "id": "d8914f5e",
   "metadata": {},
   "source": [
    "#### Berapa banyak freq pembelian customer berdasar CustomerID?"
   ]
  },
  {
   "cell_type": "code",
   "execution_count": 20,
   "id": "1f921c4a",
   "metadata": {},
   "outputs": [
    {
     "name": "stdout",
     "output_type": "stream",
     "text": [
      "+----------+-----------+\n",
      "|CustomerID|Freq Jumlah|\n",
      "+----------+-----------+\n",
      "|     16250|         14|\n",
      "|     15574|        121|\n",
      "|     15271|         24|\n",
      "|     15555|         37|\n",
      "|     17757|         49|\n",
      "|     13187|         37|\n",
      "|     13107|         21|\n",
      "|     16303|         35|\n",
      "|     13174|        169|\n",
      "|     17128|         14|\n",
      "|     14810|         23|\n",
      "|     16654|          9|\n",
      "|     17917|         29|\n",
      "|     17855|         17|\n",
      "|     15107|          5|\n",
      "|     14443|         20|\n",
      "|     12386|          8|\n",
      "|     14236|          3|\n",
      "|     13030|         60|\n",
      "|     14618|          1|\n",
      "+----------+-----------+\n",
      "only showing top 20 rows\n",
      "\n"
     ]
    }
   ],
   "source": [
    "df_freq = df_2.groupBy('CustomerID') \\\n",
    "    .agg(count('InvoiceDate') \\\n",
    "    .alias('Freq Jumlah')) \n",
    "df_freq.show()"
   ]
  },
  {
   "cell_type": "code",
   "execution_count": 21,
   "id": "6b2cb36c",
   "metadata": {},
   "outputs": [
    {
     "name": "stdout",
     "output_type": "stream",
     "text": [
      "+----------+-------+---------+---------+----------------------------------+--------+------------+---------+--------------+-------------------+-------------------+-----------+\n",
      "|CustomerID|recency|InvoiceNo|StockCode|Description                       |Quantity|InvoiceDate |UnitPrice|Country       |date               |from_date          |Freq Jumlah|\n",
      "+----------+-------+---------+---------+----------------------------------+--------+------------+---------+--------------+-------------------+-------------------+-----------+\n",
      "|13047     |540    |536369   |21756    |BATH BUILDING BLOCK WORD          |3       |12/1/10 8:35|5.95     |United Kingdom|2012-01-10 08:35:00|2012-01-10 08:26:00|1          |\n",
      "|13748     |2040   |536371   |22086    |PAPER CHAIN KIT 50'S CHRISTMAS    |80      |12/1/10 9:00|2.55     |United Kingdom|2012-01-10 09:00:00|2012-01-10 08:26:00|1          |\n",
      "|17850     |3960   |536375   |85123A   |WHITE HANGING HEART T-LIGHT HOLDER|6       |12/1/10 9:32|2.55     |United Kingdom|2012-01-10 09:32:00|2012-01-10 08:26:00|35         |\n",
      "|17850     |3960   |536375   |71053    |WHITE METAL LANTERN               |6       |12/1/10 9:32|3.39     |United Kingdom|2012-01-10 09:32:00|2012-01-10 08:26:00|35         |\n",
      "|17850     |3960   |536375   |84406B   |CREAM CUPID HEARTS COAT HANGER    |8       |12/1/10 9:32|2.75     |United Kingdom|2012-01-10 09:32:00|2012-01-10 08:26:00|35         |\n",
      "+----------+-------+---------+---------+----------------------------------+--------+------------+---------+--------------+-------------------+-------------------+-----------+\n",
      "only showing top 5 rows\n",
      "\n"
     ]
    }
   ],
   "source": [
    "df_3 =df_2.join(df_freq,on='CustomerID',how='inner')\n",
    "df_3.show(5,0)"
   ]
  },
  {
   "attachments": {},
   "cell_type": "markdown",
   "id": "b95c6ce5",
   "metadata": {},
   "source": [
    "#### Menghitung Total Pengeluaran dari setiap pembelian"
   ]
  },
  {
   "cell_type": "code",
   "execution_count": 22,
   "id": "fd353138",
   "metadata": {},
   "outputs": [],
   "source": [
    "#Membuat Kolom Total Amount dengan mengkalikan Nilai Quantity dengan UnitPrice\n",
    "val_M = df_3.withColumn('Total Amount',col(\"Quantity\")*col('UnitPrice'))"
   ]
  },
  {
   "cell_type": "code",
   "execution_count": 23,
   "id": "bb305348",
   "metadata": {},
   "outputs": [],
   "source": [
    "# Pengelompokan berdasarkan CustomerID dengan aggregasi fungsi sum\n",
    "val_m = val_M.groupBy('CustomerID') \\\n",
    "    .agg(sum('Total Amount') \\\n",
    "    .alias('monetary_value'))"
   ]
  },
  {
   "cell_type": "code",
   "execution_count": 24,
   "id": "209a5f70",
   "metadata": {},
   "outputs": [
    {
     "name": "stdout",
     "output_type": "stream",
     "text": [
      "+----------+-----------------+\n",
      "|CustomerID|monetary_value   |\n",
      "+----------+-----------------+\n",
      "|16250     |226.14           |\n",
      "|15574     |375.65           |\n",
      "|15271     |111.75           |\n",
      "|15555     |620.3499999999998|\n",
      "|17757     |385.25           |\n",
      "+----------+-----------------+\n",
      "only showing top 5 rows\n",
      "\n"
     ]
    }
   ],
   "source": [
    "val_m.show(5,0)"
   ]
  },
  {
   "cell_type": "code",
   "execution_count": 25,
   "id": "6e8641ac",
   "metadata": {
    "scrolled": true
   },
   "outputs": [
    {
     "name": "stdout",
     "output_type": "stream",
     "text": [
      "+----------+-------+---------+---------+----------------------------------+--------+------------+---------+--------------+-------------------+-------------------+-----------+\n",
      "|CustomerID|recency|InvoiceNo|StockCode|Description                       |Quantity|InvoiceDate |UnitPrice|Country       |date               |from_date          |Freq Jumlah|\n",
      "+----------+-------+---------+---------+----------------------------------+--------+------------+---------+--------------+-------------------+-------------------+-----------+\n",
      "|13047     |540    |536369   |21756    |BATH BUILDING BLOCK WORD          |3       |12/1/10 8:35|5.95     |United Kingdom|2012-01-10 08:35:00|2012-01-10 08:26:00|1          |\n",
      "|13748     |2040   |536371   |22086    |PAPER CHAIN KIT 50'S CHRISTMAS    |80      |12/1/10 9:00|2.55     |United Kingdom|2012-01-10 09:00:00|2012-01-10 08:26:00|1          |\n",
      "|17850     |3960   |536375   |85123A   |WHITE HANGING HEART T-LIGHT HOLDER|6       |12/1/10 9:32|2.55     |United Kingdom|2012-01-10 09:32:00|2012-01-10 08:26:00|35         |\n",
      "|17850     |3960   |536375   |71053    |WHITE METAL LANTERN               |6       |12/1/10 9:32|3.39     |United Kingdom|2012-01-10 09:32:00|2012-01-10 08:26:00|35         |\n",
      "|17850     |3960   |536375   |84406B   |CREAM CUPID HEARTS COAT HANGER    |8       |12/1/10 9:32|2.75     |United Kingdom|2012-01-10 09:32:00|2012-01-10 08:26:00|35         |\n",
      "+----------+-------+---------+---------+----------------------------------+--------+------------+---------+--------------+-------------------+-------------------+-----------+\n",
      "only showing top 5 rows\n",
      "\n"
     ]
    }
   ],
   "source": [
    "df_3.show(5,0)"
   ]
  },
  {
   "cell_type": "code",
   "execution_count": 26,
   "id": "e8101eae",
   "metadata": {},
   "outputs": [
    {
     "name": "stdout",
     "output_type": "stream",
     "text": [
      "+----------+--------------+-------+---------+---------+------------------------+--------+------------+---------+--------------+-------------------+-------------------+-----------+\n",
      "|CustomerID|monetary_value|recency|InvoiceNo|StockCode|Description             |Quantity|InvoiceDate |UnitPrice|Country       |date               |from_date          |Freq Jumlah|\n",
      "+----------+--------------+-------+---------+---------+------------------------+--------+------------+---------+--------------+-------------------+-------------------+-----------+\n",
      "|13047     |17.85         |540    |536369   |21756    |BATH BUILDING BLOCK WORD|3       |12/1/10 8:35|5.95     |United Kingdom|2012-01-10 08:35:00|2012-01-10 08:26:00|1          |\n",
      "+----------+--------------+-------+---------+---------+------------------------+--------+------------+---------+--------------+-------------------+-------------------+-----------+\n",
      "only showing top 1 row\n",
      "\n"
     ]
    }
   ],
   "source": [
    "df_new = val_m.join(df_3,on='CustomerID',how='inner')\n",
    "df_new.show(1,0)"
   ]
  },
  {
   "cell_type": "code",
   "execution_count": 43,
   "id": "53c78334",
   "metadata": {},
   "outputs": [
    {
     "name": "stdout",
     "output_type": "stream",
     "text": [
      "+------------+-----------+-------------------+----------+\n",
      "|     recency|Freq Jumlah|     monetary_value|CustomerID|\n",
      "+------------+-----------+-------------------+----------+\n",
      "|        5580|         14|             226.14|     16250|\n",
      "|     2704800|        121|             375.65|     15574|\n",
      "|    21100860|         24|             111.75|     15271|\n",
      "|    21112020|         37|  620.3499999999998|     15555|\n",
      "|    23703000|         49|             385.25|     17757|\n",
      "|-63447801064|         37| 236.01999999999995|     13187|\n",
      "|-63437283604|         21|  566.8400000000001|     13107|\n",
      "|-63437277124|         35|             827.18|     16303|\n",
      "|    10483080|        169| 1415.9700000000003|     13174|\n",
      "|-63439877164|         14|             157.09|     17128|\n",
      "|    10467720|         23| 180.44000000000003|     14810|\n",
      "|    13156980|          9| 227.40000000000003|     16654|\n",
      "|    28957320|         29| 110.91000000000001|     17917|\n",
      "|     2683080|         17| 208.96999999999997|     17855|\n",
      "|     2697540|          5|              116.0|     15107|\n",
      "|    13142220|         20|              303.5|     14443|\n",
      "|    18408420|          8| 258.90000000000003|     12386|\n",
      "|     2715780|          3|              189.3|     14236|\n",
      "|    13154700|         60|             427.74|     13030|\n",
      "|    18426660|          1|-14.850000000000001|     14618|\n",
      "+------------+-----------+-------------------+----------+\n",
      "only showing top 20 rows\n",
      "\n"
     ]
    }
   ],
   "source": [
    "# Hasil data yang telah di preprocessing telah selesai \n",
    "df_new = df_new.select(['recency','Freq Jumlah','monetary_value','CustomerID']).distinct()\n",
    "df_new.show()"
   ]
  },
  {
   "attachments": {},
   "cell_type": "markdown",
   "id": "ec4c2b16",
   "metadata": {},
   "source": [
    "#### Kita dapat menyimpan dataset yang telah diproceessing ke langkah yang berbeda"
   ]
  },
  {
   "cell_type": "code",
   "execution_count": 28,
   "id": "72f9470a",
   "metadata": {},
   "outputs": [],
   "source": [
    "# df_new.write.csv('output.csv',header=True)\n",
    "\n",
    "# df_new.write.option(\"header\",True) \\\n",
    "#     .csv(\"output.csv\")\n",
    "\n"
   ]
  },
  {
   "attachments": {},
   "cell_type": "markdown",
   "id": "fd127cac",
   "metadata": {},
   "source": [
    "## Standardization\n",
    "\n",
    "Tujuan dari standarisasi adalah memastikan semua nilai berada di skala yang sama"
   ]
  },
  {
   "cell_type": "code",
   "execution_count": 29,
   "id": "ec9b63e9",
   "metadata": {},
   "outputs": [],
   "source": [
    "assemble = VectorAssembler(inputCols=['recency','Freq Jumlah','monetary_value'],outputCol='features')\n",
    "# assemble\n",
    "assembled_data = assemble.transform(df_new) #mentransform input yang bernama feature\n",
    "# assembled_data.show(1,0)\n",
    "\n",
    "scale = StandardScaler(inputCol='features',outputCol='standardized') #Menerapkan func standradscaler dan memasukan kol 'features' sebagai input\n",
    "data_scaled = scale.fit(assembled_data) #menyesuaikan model dengan set data input 'assembled_data'\n",
    "data_scaled = data_scaled.transform(assembled_data) #mentransformasi input"
   ]
  },
  {
   "cell_type": "code",
   "execution_count": 30,
   "id": "8c3afc46",
   "metadata": {},
   "outputs": [
    {
     "name": "stdout",
     "output_type": "stream",
     "text": [
      "+-------+-----------+--------------+----------+--------------------+--------------------------------------------------------------+\n",
      "|recency|Freq Jumlah|monetary_value|CustomerID|features            |standardized                                                  |\n",
      "+-------+-----------+--------------+----------+--------------------+--------------------------------------------------------------+\n",
      "|5580   |14         |226.14        |16250     |[5580.0,14.0,226.14]|[1.8278066676832049E-7,0.4589020319425581,0.07645669520731259]|\n",
      "+-------+-----------+--------------+----------+--------------------+--------------------------------------------------------------+\n",
      "only showing top 1 row\n",
      "\n"
     ]
    }
   ],
   "source": [
    "data_scaled.show(1,0)"
   ]
  },
  {
   "attachments": {},
   "cell_type": "markdown",
   "id": "4e231e75",
   "metadata": {},
   "source": [
    "## Modeling\n",
    "\n",
    "Tahap pertama yang perlu dilakukan adalah menentukan angka cluster atau grub yang ingin dikembalikan oleh algoritma.\n",
    "\n",
    "Lalu kita perlu menerapkan teknik untuk menentukan berapa banyak klaster yang digunakan di KMeans \n",
    "\n",
    "disini saya akan mempraktekkan menggunakan Elbow method"
   ]
  },
  {
   "cell_type": "code",
   "execution_count": 31,
   "id": "e1752eb4",
   "metadata": {},
   "outputs": [],
   "source": [
    "cost = np.zeros(20)\n",
    "eval = ClusteringEvaluator(predictionCol='prediction',featuresCol='standardized',metricName='silhouette',distanceMeasure='squaredEuclidean')\n",
    "\n",
    "for i in range(2,20):\n",
    "    model = KMeans(featuresCol='standardized',k=i)\n",
    "    model = model.fit(data_scaled)\n",
    "    output = model.transform(data_scaled)\n",
    "    cost[i] = model.summary.trainingCost\n"
   ]
  },
  {
   "attachments": {},
   "cell_type": "markdown",
   "id": "814aeedb",
   "metadata": {},
   "source": [
    "### Visualisasi dari nilai training cost"
   ]
  },
  {
   "cell_type": "code",
   "execution_count": 32,
   "id": "c85aa550",
   "metadata": {},
   "outputs": [
    {
     "data": {
      "image/png": "[encoded data removed]",
      "text/plain": [
       "<Figure size 640x480 with 1 Axes>"
      ]
     },
     "metadata": {},
     "output_type": "display_data"
    }
   ],
   "source": [
    "import pandas as pd\n",
    "import pylab as pl\n",
    "\n",
    "df_cost = pd.DataFrame(cost[2:])\n",
    "df_cost.columns = [\"cost\"]\n",
    "\n",
    "new_col = range(2,20)\n",
    "df_cost.insert(0, 'cluster', new_col)\n",
    "\n",
    "pl.plot(df_cost.cluster, df_cost.cost)\n",
    "pl.xlabel('Number of Clusters')\n",
    "pl.ylabel('Score')\n",
    "pl.title('Elbow Curve')\n",
    "pl.show()"
   ]
  },
  {
   "attachments": {},
   "cell_type": "markdown",
   "id": "a363c4df",
   "metadata": {},
   "source": [
    "### Build KMeans Clustering Model"
   ]
  },
  {
   "attachments": {},
   "cell_type": "markdown",
   "id": "d526b55c",
   "metadata": {},
   "source": [
    "Lalu kita bisa melihat titik curam disekitaran 4 dan 5\n",
    "sebagai contoh saya mengambil 4"
   ]
  },
  {
   "cell_type": "code",
   "execution_count": 33,
   "id": "4d5fb692",
   "metadata": {},
   "outputs": [],
   "source": [
    "model = KMeans(featuresCol='standardized',k=4)\n",
    "model = model.fit(data_scaled)"
   ]
  },
  {
   "attachments": {},
   "cell_type": "markdown",
   "id": "4badae3e",
   "metadata": {},
   "source": [
    "### Membuat Prediksi Cluster untuk setiap Customer"
   ]
  },
  {
   "cell_type": "code",
   "execution_count": 34,
   "id": "90194429",
   "metadata": {},
   "outputs": [
    {
     "name": "stdout",
     "output_type": "stream",
     "text": [
      "+--------+-----------+-----------------+----------+-----------------------------------+--------------------------------------------------------------+----------+\n",
      "|recency |Freq Jumlah|monetary_value   |CustomerID|features                           |standardized                                                  |prediction|\n",
      "+--------+-----------+-----------------+----------+-----------------------------------+--------------------------------------------------------------+----------+\n",
      "|5580    |14         |226.14           |16250     |[5580.0,14.0,226.14]               |[1.8278066676832049E-7,0.4589020319425581,0.07645669520731259]|0         |\n",
      "|2704800 |121        |375.65           |15574     |[2704800.0,121.0,375.65]           |[8.859948879479449E-5,3.9662247046463945,0.12700520719300865] |3         |\n",
      "|21100860|24         |111.75           |15271     |[2.110086E7,24.0,111.75]           |[6.911880394596744E-4,0.7866891976158138,0.03778206283460327] |0         |\n",
      "|21112020|37         |620.3499999999998|15555     |[2.111202E7,37.0,620.3499999999998]|[6.91553600793211E-4,1.2128125129910463,0.2097369367288244]   |0         |\n",
      "|23703000|49         |385.25           |17757     |[2.3703E7,49.0,385.25]             |[7.764247570626344E-4,1.6061571117989533,0.1302509146043034]  |0         |\n",
      "+--------+-----------+-----------------+----------+-----------------------------------+--------------------------------------------------------------+----------+\n",
      "only showing top 5 rows\n",
      "\n"
     ]
    }
   ],
   "source": [
    "pred = model.transform(data_scaled)\n",
    "pred.show(5,0)"
   ]
  },
  {
   "cell_type": "code",
   "execution_count": 35,
   "id": "70336f93",
   "metadata": {},
   "outputs": [
    {
     "name": "stdout",
     "output_type": "stream",
     "text": [
      "+----------+\n",
      "|prediction|\n",
      "+----------+\n",
      "|         1|\n",
      "|         3|\n",
      "|         2|\n",
      "|         0|\n",
      "+----------+\n",
      "\n"
     ]
    }
   ],
   "source": [
    "pred[['prediction']].distinct().show()"
   ]
  },
  {
   "attachments": {},
   "cell_type": "markdown",
   "id": "532ab56a",
   "metadata": {},
   "source": [
    "### VISUALISASI HASIL CLUSTERING "
   ]
  },
  {
   "cell_type": "code",
   "execution_count": 40,
   "id": "764c2a0d",
   "metadata": {},
   "outputs": [],
   "source": [
    "# Coming Soon Insyaallah"
   ]
  }
 ],
 "metadata": {
  "kernelspec": {
   "display_name": "Python 3 (ipykernel)",
   "language": "python",
   "name": "python3"
  },
  "language_info": {
   "codemirror_mode": {
    "name": "ipython",
    "version": 3
   },
   "file_extension": ".py",
   "mimetype": "text/x-python",
   "name": "python",
   "nbconvert_exporter": "python",
   "pygments_lexer": "ipython3",
   "version": "3.11.3"
  }
 },
 "nbformat": 4,
 "nbformat_minor": 5
}
